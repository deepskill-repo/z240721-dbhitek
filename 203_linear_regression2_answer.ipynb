{
  "cells": [
    {
      "cell_type": "markdown",
      "metadata": {
        "id": "kyaj1xiyadVu"
      },
      "source": [
        "이번 노트에서 사용한 데이터와 유사한 데이터를 사용해 복습해 보겠습니다.\n",
        "\n",
        "다음 데이터셋은 미국 시애틀 King County 지역의 2014년 5월 ~ 2015년 5월 주택 판매 가격 데이터입니다.\n",
        "   - [House Sales in King County, USA](https://www.kaggle.com/harlfoxem/housesalesprediction?select=kc_house_data.csv)\n",
        "\n",
        "이 데이터를 사용해 다음 과제를 마크다운과 코드를 활용하여 진행해 주세요."
      ]
    },
    {
      "cell_type": "markdown",
      "metadata": {
        "id": "-EH6j1Mxatdo"
      },
      "source": [
        "## **Part 1. Linear Regression**"
      ]
    },
    {
      "cell_type": "markdown",
      "metadata": {
        "id": "fHV5Zvxna19n"
      },
      "source": [
        "### **1-1. 데이터 준비하기**\n",
        "\n",
        "- 데이터셋을 불러오세요.\n",
        "- 특성들과 타겟(price) 간의 상관계수를 계산하고, 상관계수가 가장 높은 특성을 찾으세요.\n",
        "- 상관계수가 가장 높은 특성과 타겟을 scatter plot으로 시각화 하세요.\n",
        "  - x축은 특성, y축은 타겟을 나타내야 합니다."
      ]
    },
    {
      "cell_type": "markdown",
      "metadata": {
        "id": "QeD9J3amrOFo"
      },
      "source": [
        "##### **Q1. 타겟과 상관계수가 가장 높은 특성의 이름을 적어 주세요.**"
      ]
    },
    {
      "cell_type": "code",
      "execution_count": 14,
      "metadata": {
        "colab": {
          "base_uri": "https://localhost:8080/",
          "height": 256
        },
        "id": "OIZcF8pLpv1-",
        "outputId": "4f49075b-e3bd-4d2c-9360-a20f5aa0f167"
      },
      "outputs": [
        {
          "data": {
            "text/html": [
              "<div>\n",
              "<style scoped>\n",
              "    .dataframe tbody tr th:only-of-type {\n",
              "        vertical-align: middle;\n",
              "    }\n",
              "\n",
              "    .dataframe tbody tr th {\n",
              "        vertical-align: top;\n",
              "    }\n",
              "\n",
              "    .dataframe thead th {\n",
              "        text-align: right;\n",
              "    }\n",
              "</style>\n",
              "<table border=\"1\" class=\"dataframe\">\n",
              "  <thead>\n",
              "    <tr style=\"text-align: right;\">\n",
              "      <th></th>\n",
              "      <th>id</th>\n",
              "      <th>date</th>\n",
              "      <th>price</th>\n",
              "      <th>bedrooms</th>\n",
              "      <th>bathrooms</th>\n",
              "      <th>sqft_living</th>\n",
              "      <th>sqft_lot</th>\n",
              "      <th>floors</th>\n",
              "      <th>waterfront</th>\n",
              "      <th>view</th>\n",
              "      <th>...</th>\n",
              "      <th>grade</th>\n",
              "      <th>sqft_above</th>\n",
              "      <th>sqft_basement</th>\n",
              "      <th>yr_built</th>\n",
              "      <th>yr_renovated</th>\n",
              "      <th>zipcode</th>\n",
              "      <th>lat</th>\n",
              "      <th>long</th>\n",
              "      <th>sqft_living15</th>\n",
              "      <th>sqft_lot15</th>\n",
              "    </tr>\n",
              "  </thead>\n",
              "  <tbody>\n",
              "    <tr>\n",
              "      <th>0</th>\n",
              "      <td>7129300520</td>\n",
              "      <td>20141013T000000</td>\n",
              "      <td>221900.0</td>\n",
              "      <td>3</td>\n",
              "      <td>1.00</td>\n",
              "      <td>1180</td>\n",
              "      <td>5650</td>\n",
              "      <td>1.0</td>\n",
              "      <td>0</td>\n",
              "      <td>0</td>\n",
              "      <td>...</td>\n",
              "      <td>7</td>\n",
              "      <td>1180</td>\n",
              "      <td>0</td>\n",
              "      <td>1955</td>\n",
              "      <td>0</td>\n",
              "      <td>98178</td>\n",
              "      <td>47.5112</td>\n",
              "      <td>-122.257</td>\n",
              "      <td>1340</td>\n",
              "      <td>5650</td>\n",
              "    </tr>\n",
              "    <tr>\n",
              "      <th>1</th>\n",
              "      <td>6414100192</td>\n",
              "      <td>20141209T000000</td>\n",
              "      <td>538000.0</td>\n",
              "      <td>3</td>\n",
              "      <td>2.25</td>\n",
              "      <td>2570</td>\n",
              "      <td>7242</td>\n",
              "      <td>2.0</td>\n",
              "      <td>0</td>\n",
              "      <td>0</td>\n",
              "      <td>...</td>\n",
              "      <td>7</td>\n",
              "      <td>2170</td>\n",
              "      <td>400</td>\n",
              "      <td>1951</td>\n",
              "      <td>1991</td>\n",
              "      <td>98125</td>\n",
              "      <td>47.7210</td>\n",
              "      <td>-122.319</td>\n",
              "      <td>1690</td>\n",
              "      <td>7639</td>\n",
              "    </tr>\n",
              "    <tr>\n",
              "      <th>2</th>\n",
              "      <td>5631500400</td>\n",
              "      <td>20150225T000000</td>\n",
              "      <td>180000.0</td>\n",
              "      <td>2</td>\n",
              "      <td>1.00</td>\n",
              "      <td>770</td>\n",
              "      <td>10000</td>\n",
              "      <td>1.0</td>\n",
              "      <td>0</td>\n",
              "      <td>0</td>\n",
              "      <td>...</td>\n",
              "      <td>6</td>\n",
              "      <td>770</td>\n",
              "      <td>0</td>\n",
              "      <td>1933</td>\n",
              "      <td>0</td>\n",
              "      <td>98028</td>\n",
              "      <td>47.7379</td>\n",
              "      <td>-122.233</td>\n",
              "      <td>2720</td>\n",
              "      <td>8062</td>\n",
              "    </tr>\n",
              "    <tr>\n",
              "      <th>3</th>\n",
              "      <td>2487200875</td>\n",
              "      <td>20141209T000000</td>\n",
              "      <td>604000.0</td>\n",
              "      <td>4</td>\n",
              "      <td>3.00</td>\n",
              "      <td>1960</td>\n",
              "      <td>5000</td>\n",
              "      <td>1.0</td>\n",
              "      <td>0</td>\n",
              "      <td>0</td>\n",
              "      <td>...</td>\n",
              "      <td>7</td>\n",
              "      <td>1050</td>\n",
              "      <td>910</td>\n",
              "      <td>1965</td>\n",
              "      <td>0</td>\n",
              "      <td>98136</td>\n",
              "      <td>47.5208</td>\n",
              "      <td>-122.393</td>\n",
              "      <td>1360</td>\n",
              "      <td>5000</td>\n",
              "    </tr>\n",
              "    <tr>\n",
              "      <th>4</th>\n",
              "      <td>1954400510</td>\n",
              "      <td>20150218T000000</td>\n",
              "      <td>510000.0</td>\n",
              "      <td>3</td>\n",
              "      <td>2.00</td>\n",
              "      <td>1680</td>\n",
              "      <td>8080</td>\n",
              "      <td>1.0</td>\n",
              "      <td>0</td>\n",
              "      <td>0</td>\n",
              "      <td>...</td>\n",
              "      <td>8</td>\n",
              "      <td>1680</td>\n",
              "      <td>0</td>\n",
              "      <td>1987</td>\n",
              "      <td>0</td>\n",
              "      <td>98074</td>\n",
              "      <td>47.6168</td>\n",
              "      <td>-122.045</td>\n",
              "      <td>1800</td>\n",
              "      <td>7503</td>\n",
              "    </tr>\n",
              "  </tbody>\n",
              "</table>\n",
              "<p>5 rows × 21 columns</p>\n",
              "</div>"
            ],
            "text/plain": [
              "           id             date     price  bedrooms  bathrooms  sqft_living  \\\n",
              "0  7129300520  20141013T000000  221900.0         3       1.00         1180   \n",
              "1  6414100192  20141209T000000  538000.0         3       2.25         2570   \n",
              "2  5631500400  20150225T000000  180000.0         2       1.00          770   \n",
              "3  2487200875  20141209T000000  604000.0         4       3.00         1960   \n",
              "4  1954400510  20150218T000000  510000.0         3       2.00         1680   \n",
              "\n",
              "   sqft_lot  floors  waterfront  view  ...  grade  sqft_above  sqft_basement  \\\n",
              "0      5650     1.0           0     0  ...      7        1180              0   \n",
              "1      7242     2.0           0     0  ...      7        2170            400   \n",
              "2     10000     1.0           0     0  ...      6         770              0   \n",
              "3      5000     1.0           0     0  ...      7        1050            910   \n",
              "4      8080     1.0           0     0  ...      8        1680              0   \n",
              "\n",
              "   yr_built  yr_renovated  zipcode      lat     long  sqft_living15  \\\n",
              "0      1955             0    98178  47.5112 -122.257           1340   \n",
              "1      1951          1991    98125  47.7210 -122.319           1690   \n",
              "2      1933             0    98028  47.7379 -122.233           2720   \n",
              "3      1965             0    98136  47.5208 -122.393           1360   \n",
              "4      1987             0    98074  47.6168 -122.045           1800   \n",
              "\n",
              "   sqft_lot15  \n",
              "0        5650  \n",
              "1        7639  \n",
              "2        8062  \n",
              "3        5000  \n",
              "4        7503  \n",
              "\n",
              "[5 rows x 21 columns]"
            ]
          },
          "execution_count": 14,
          "metadata": {},
          "output_type": "execute_result"
        }
      ],
      "source": [
        "# 데이터셋을 불러옵니다.\n",
        "\n",
        "import pandas as pd\n",
        "\n",
        "df = pd.read_csv('https://ds-lecture-data.s3.ap-northeast-2.amazonaws.com/kc_house_data/kc_house_data.csv')\n",
        "df.head()"
      ]
    },
    {
      "cell_type": "code",
      "execution_count": 15,
      "metadata": {
        "id": "nJdziGZuY7s1"
      },
      "outputs": [
        {
          "name": "stdout",
          "output_type": "stream",
          "text": [
            "Q1. 타겟과 상관계수 (절대값 기준 정렬, 실제 값 표시):\n",
            "price            1.000000\n",
            "sqft_living      0.702035\n",
            "grade            0.667434\n",
            "sqft_above       0.605567\n",
            "sqft_living15    0.585379\n",
            "bathrooms        0.525138\n",
            "view             0.397293\n",
            "sqft_basement    0.323816\n",
            "bedrooms         0.308350\n",
            "lat              0.307003\n",
            "waterfront       0.266369\n",
            "floors           0.256794\n",
            "yr_renovated     0.126434\n",
            "sqft_lot         0.089661\n",
            "sqft_lot15       0.082447\n",
            "yr_built         0.054012\n",
            "zipcode         -0.053203\n",
            "condition        0.036362\n",
            "long             0.021626\n",
            "id              -0.016762\n",
            "Name: price, dtype: float64\n",
            "\n",
            "타겟과 상관계수가 가장 높은 특성: sqft_living\n"
          ]
        },
        {
          "name": "stderr",
          "output_type": "stream",
          "text": [
            "C:\\Users\\owenc\\AppData\\Local\\Temp\\ipykernel_24356\\3596633541.py:2: FutureWarning: The default value of numeric_only in DataFrame.corr is deprecated. In a future version, it will default to False. Select only valid columns or specify the value of numeric_only to silence this warning.\n",
            "  corr = df.corr()['price']\n"
          ]
        }
      ],
      "source": [
        "## Q1. 타겟과 상관계수가 가장 높은 특성의 이름을 적어 주세요\n",
        "corr = df.corr()['price']\n",
        "corr_abs_sorted = corr.abs().sort_values(ascending=False)\n",
        "corr_sorted_real = corr[corr_abs_sorted.index]\n",
        "\n",
        "print(\"Q1. 타겟과 상관계수 (절대값 기준 정렬, 실제 값 표시):\")\n",
        "print(corr_sorted_real)\n",
        "print(\"\\n타겟과 상관계수가 가장 높은 특성:\", corr_sorted_real.index[1])"
      ]
    },
    {
      "cell_type": "markdown",
      "metadata": {
        "id": "SjNNzi1HsKpj"
      },
      "source": [
        "### **1-2. 기준모델**\n",
        "\n",
        "- `sqft_living`과 `price`의 scatter plot을 그리고, 평균 기준모델을 시각화 하세요."
      ]
    },
    {
      "cell_type": "code",
      "execution_count": 16,
      "metadata": {},
      "outputs": [],
      "source": [
        "import matplotlib.pyplot as plt\n",
        "import seaborn as sns\n",
        "\n",
        "y_pred_base = df['price'].mean()\n",
        "\n",
        "plt.figure(figsize=(8,6))\n",
        "sns.scatterplot(x=df['sqft_living'], y = df['price'])\n",
        "sns.lineplot(x=df['sqft_living'], y=y_pred_base, color='red')\n",
        "plt.show()"
      ]
    },
    {
      "cell_type": "markdown",
      "metadata": {
        "id": "-GRjVxmx25OC"
      },
      "source": [
        "##### **Q2. 기준모델에서 사용한 평균값을 적어 주세요. (소수점 이하 반올림)**"
      ]
    },
    {
      "cell_type": "code",
      "execution_count": null,
      "metadata": {
        "id": "oS5ByX5_ZFxX"
      },
      "outputs": [
        {
          "name": "stdout",
          "output_type": "stream",
          "text": [
            "Q2. 기준모델에서 사용한 평균값: 540088\n"
          ]
        }
      ],
      "source": [
        "print(\"Q2. 기준모델에서 사용한 평균값:\", round(y_pred_base))"
      ]
    },
    {
      "cell_type": "markdown",
      "metadata": {
        "id": "uJ7MDEotsMmg"
      },
      "source": [
        "### **1-3. Simple Linear Regression**\n",
        "\n",
        "- Scikit-Learn 라이브러리를 사용하여 단순선형회귀 모델을 만드세요.\n",
        "  - 특성은 `sqft_living`이고, 타겟은 `price`입니다.\n",
        "- 모델 학습 후, 특성 `sqft_living`에 대한 타겟 `price`의 예측값을 구하세요."
      ]
    },
    {
      "cell_type": "markdown",
      "metadata": {
        "id": "2avtyXI_Qd-Y"
      },
      "source": [
        "##### **Q3. 단순선형회귀 모델이 예측한 결과에서 index가 0인 값을 적어 주세요. (소수점 이하 반올림)**"
      ]
    },
    {
      "cell_type": "code",
      "execution_count": null,
      "metadata": {
        "id": "Zq91qf8LZI9i"
      },
      "outputs": [
        {
          "name": "stdout",
          "output_type": "stream",
          "text": [
            "Q3. 단순선형회귀 모델이 예측한 결과 (index 0): 287555\n"
          ]
        }
      ],
      "source": [
        "from sklearn.linear_model import LinearRegression\n",
        "\n",
        "simple_X = df[['sqft_living']]\n",
        "y = df['price']\n",
        "simple_ols = LinearRegression()\n",
        "simple_ols.fit(simple_X, y)\n",
        "y_pred_simple = simple_ols.predict(simple_X)\n",
        "print(\"Q3. 단순선형회귀 모델이 예측한 결과 (index 0):\", round(y_pred_simple[0]))"
      ]
    },
    {
      "cell_type": "markdown",
      "metadata": {
        "id": "HAkS8RCmsPvE"
      },
      "source": [
        "### **1-4. Multiple Linear Regression**\n",
        "\n",
        "- Scikit-Learn 라이브러리를 사용하여 다중선형회귀 모델을 만드세요.\n",
        "  - 특성은 `sqft_living`, `bathrooms`이고, 타겟은 `price`입니다.\n",
        "- 모델 학습 후, 두 특성 `sqft_living`, `bathrooms`에 대한 타겟 `price`의 예측값을 구하세요."
      ]
    },
    {
      "cell_type": "markdown",
      "metadata": {
        "id": "uwBaFGsve0FJ"
      },
      "source": [
        "##### **Q4. 다중선형회귀 모델이 예측한 결과에서 index가 0인 값을 적어 주세요. (소수점 이하 반올림)**"
      ]
    },
    {
      "cell_type": "code",
      "execution_count": null,
      "metadata": {
        "id": "QQImIaHAZL16"
      },
      "outputs": [
        {
          "name": "stdout",
          "output_type": "stream",
          "text": [
            "Q4. 다중선형회귀 모델이 예측한 결과 (index 0): 290371\n"
          ]
        }
      ],
      "source": [
        "multi_X = df[['sqft_living', 'bathrooms']]\n",
        "y = df['price']\n",
        "multi_ols = LinearRegression()\n",
        "multi_ols.fit(multi_X, y)\n",
        "y_pred_multi = multi_ols.predict(multi_X)\n",
        "print(\"Q4. 다중선형회귀 모델이 예측한 결과 (index 0):\", round(y_pred_multi[0]))"
      ]
    },
    {
      "cell_type": "markdown",
      "metadata": {
        "id": "AIqkafZkaxMu"
      },
      "source": [
        "## **Part 2. 평가지표**\n",
        "\n",
        "**Part 1**에서 구한 기준모델, 단순선형회귀, 다중선형회귀의 성능을 평가해 봅니다.\n",
        "- 각 모델의 mse, rmse, mae, $R^2$ 값을 구하세요.\n",
        "- 위에서 구한 평가지표를 비교해 보고, 어느 모델의 성능이 가장 좋을지 생각해 보세요."
      ]
    },
    {
      "cell_type": "markdown",
      "metadata": {
        "id": "11i-s50ajR5a"
      },
      "source": [
        "##### **Q5. 다중선형회귀 모델의 $R^2$을 반올림하여 소수점 첫째 자리까지 구한 값을 적어 주세요.**"
      ]
    },
    {
      "cell_type": "code",
      "execution_count": null,
      "metadata": {
        "id": "yLioGb2qZNgK"
      },
      "outputs": [
        {
          "name": "stdout",
          "output_type": "stream",
          "text": [
            "Q5. 다중선형회귀 모델의 R^2: 0.5\n"
          ]
        }
      ],
      "source": [
        "from sklearn.metrics import r2_score\n",
        "\n",
        "r2 = r2_score(y, y_pred_multi)\n",
        "print(\"Q5. 다중선형회귀 모델의 R^2:\", round(r2, 1))"
      ]
    },
    {
      "cell_type": "markdown",
      "metadata": {
        "id": "zeyFt7NR6PC5"
      },
      "source": [
        "##### **Q6. 단순선형회귀, 다중선형회귀 모델의 성능이 기준모델보다 나아졌나요?**"
      ]
    },
    {
      "cell_type": "code",
      "execution_count": null,
      "metadata": {
        "id": "98kbGEdPZQc9"
      },
      "outputs": [
        {
          "data": {
            "text/html": [
              "<div>\n",
              "<style scoped>\n",
              "    .dataframe tbody tr th:only-of-type {\n",
              "        vertical-align: middle;\n",
              "    }\n",
              "\n",
              "    .dataframe tbody tr th {\n",
              "        vertical-align: top;\n",
              "    }\n",
              "\n",
              "    .dataframe thead th {\n",
              "        text-align: right;\n",
              "    }\n",
              "</style>\n",
              "<table border=\"1\" class=\"dataframe\">\n",
              "  <thead>\n",
              "    <tr style=\"text-align: right;\">\n",
              "      <th></th>\n",
              "      <th>Base</th>\n",
              "      <th>Simple</th>\n",
              "      <th>Multiple</th>\n",
              "    </tr>\n",
              "  </thead>\n",
              "  <tbody>\n",
              "    <tr>\n",
              "      <th>mse</th>\n",
              "      <td>1.347761e+11</td>\n",
              "      <td>6.835129e+10</td>\n",
              "      <td>6.834448e+10</td>\n",
              "    </tr>\n",
              "    <tr>\n",
              "      <th>rmse</th>\n",
              "      <td>3.671187e+05</td>\n",
              "      <td>2.614408e+05</td>\n",
              "      <td>2.614278e+05</td>\n",
              "    </tr>\n",
              "    <tr>\n",
              "      <th>mae</th>\n",
              "      <td>2.339417e+05</td>\n",
              "      <td>1.736883e+05</td>\n",
              "      <td>1.736970e+05</td>\n",
              "    </tr>\n",
              "    <tr>\n",
              "      <th>r2</th>\n",
              "      <td>0.000000e+00</td>\n",
              "      <td>4.928532e-01</td>\n",
              "      <td>4.929037e-01</td>\n",
              "    </tr>\n",
              "  </tbody>\n",
              "</table>\n",
              "</div>"
            ],
            "text/plain": [
              "              Base        Simple      Multiple\n",
              "mse   1.347761e+11  6.835129e+10  6.834448e+10\n",
              "rmse  3.671187e+05  2.614408e+05  2.614278e+05\n",
              "mae   2.339417e+05  1.736883e+05  1.736970e+05\n",
              "r2    0.000000e+00  4.928532e-01  4.929037e-01"
            ]
          },
          "execution_count": 11,
          "metadata": {},
          "output_type": "execute_result"
        }
      ],
      "source": [
        "import numpy as np\n",
        "from sklearn.metrics import r2_score, mean_absolute_error, mean_squared_error\n",
        "\n",
        "def eval_models(y_pred, y_real=y) :\n",
        "    mse = mean_squared_error(y_real, y_pred)\n",
        "    rmse = np.sqrt(mse)\n",
        "    mae = mean_absolute_error(y_real, y_pred)\n",
        "    r2 = r2_score(y_real, y_pred)\n",
        "\n",
        "    return mse, rmse, mae, r2\n",
        "\n",
        "\n",
        "\n",
        "base_mse, base_rmse, base_mae, base_r2 = eval_models([y_pred_base]*len(df))\n",
        "simple_mse, simple_rmse, simple_mae, simple_r2 = eval_models(y_pred_simple)\n",
        "multiple_mse, multiple_rmse, multiple_mae, multiple_r2 = eval_models(y_pred_multi)\n",
        "\n",
        "comparison_metrics = pd.DataFrame(index=['mse', 'rmse', 'mae', 'r2'], columns=['Base','Simple', 'Multiple', ])\n",
        "comparison_metrics['Base'] = [base_mse, base_rmse, base_mae, base_r2 ]\n",
        "comparison_metrics['Simple'] = [simple_mse, simple_rmse, simple_mae, simple_r2]\n",
        "comparison_metrics['Multiple'] = [multiple_mse, multiple_rmse, multiple_mae, multiple_r2]\n",
        "comparison_metrics"
      ]
    },
    {
      "cell_type": "markdown",
      "metadata": {
        "id": "V-gRmXYeazVZ"
      },
      "source": [
        "## **Part 3. 모델 해석**\n",
        "\n",
        "`LinearRegression` 객체의 `coef_`와 `intercept_` 속성을 사용하여 모델 식을 구합니다.\n",
        "- 단순선형회귀식을 구하세요.\n",
        "- 다중선형회귀식을 구하세요."
      ]
    },
    {
      "cell_type": "markdown",
      "metadata": {
        "id": "7PBooVwvmHGs"
      },
      "source": [
        "##### **Q7. 단순선형회귀 모델의 coefficient를 적어 주세요. (소수점 이하 반올림)**"
      ]
    },
    {
      "cell_type": "code",
      "execution_count": null,
      "metadata": {
        "id": "69Rf54YyZXcH"
      },
      "outputs": [
        {
          "name": "stdout",
          "output_type": "stream",
          "text": [
            "coefficient:  281\n"
          ]
        }
      ],
      "source": [
        "print('coefficient: ', round(simple_ols.coef_[0]))"
      ]
    },
    {
      "cell_type": "markdown",
      "metadata": {
        "id": "qZrWauXymK-X"
      },
      "source": [
        "##### **Q8. 다중선형회귀 모델의 `sqft_living`의 coefficient를 적어 주세요. (소수점 이하 반올림)**"
      ]
    },
    {
      "cell_type": "code",
      "execution_count": null,
      "metadata": {
        "id": "9eCNcES6ZYvs"
      },
      "outputs": [
        {
          "name": "stdout",
          "output_type": "stream",
          "text": [
            "coefficient:  284\n"
          ]
        }
      ],
      "source": [
        "print('coefficient: ', round(multi_ols.coef_[0]))"
      ]
    },
    {
      "cell_type": "markdown",
      "metadata": {
        "id": "DzXLbbvH_PkY"
      },
      "source": [
        "## **Part 4. Linear Regression - Advanced**"
      ]
    },
    {
      "cell_type": "markdown",
      "metadata": {
        "id": "Q_ocrefl_WwK"
      },
      "source": [
        "### **4-1. Discussion**\n",
        "\n",
        "단순선형회귀 모델을 만들기 위해 전제되어야 하는 조건들에 대해 설명해 보세요."
      ]
    },
    {
      "cell_type": "markdown",
      "metadata": {
        "id": "bK2U4mZJInb4"
      },
      "source": [
        "* 선형성(Linearity): 독립변수와 종속변수 사이에 선형 관계가 있어야 합니다. 산점도를 그려 대략적으로 직선 형태인지 확인할 수 있습니다.\n",
        "* 독립성(Independence): 관측치들은 서로 독립적이어야 합니다. 즉, 한 데이터 포인트가 다른 포인트에 영향을 주면 안 됩니다.\n",
        "* 등분산성(Homoscedasticity): 오차의 분산이 모든 독립변수 값에 대해 일정해야 합니다. 잔차 플롯을 통해 확인할 수 있습니다.\n",
        "* 정규성(Normality): 오차가 정규 분포를 따라야 합니다. Q-Q 플롯으로 확인 가능합니다.\n",
        "* 이상치 부재(Absence of Outliers): 극단적인 이상치가 없어야 합니다. 이는 모델의 정확도에 큰 영향을 줄 수 있습니다.\n",
        "* 다중공선성 부재(Absence of Multicollinearity): 단순선형회귀에서는 독립변수가 하나이므로 크게 문제되지 않지만, 독립변수들 간에 강한 상관관계가 없어야 합니다."
      ]
    },
    {
      "cell_type": "markdown",
      "metadata": {},
      "source": [
        "아래 질문들에 대해서는 Kaggle의 예시 코드들을 참조해보세요!\n",
        "\n",
        "https://www.kaggle.com/datasets/harlfoxem/housesalesprediction/code\n",
        "https://www.kaggle.com/code/durjoychandrapaul/pytorch-multiple-linear-regression-in-house-price"
      ]
    },
    {
      "cell_type": "markdown",
      "metadata": {
        "id": "MiMyhgfm_h98"
      },
      "source": [
        "### **4-2. Simple Linear Regression**\n",
        "\n",
        "- Scikit-Learn 라이브러리를 사용하여 단순선형회귀 모델을 만드세요.\n",
        "  - **기본 과제**에서 사용한 특성 외에 다른 특성을 사용합니다.\n",
        "  - 타겟은 `price` 입니다.\n",
        "- 모델 학습 후, 사용한 특성에 대한 타겟 `price`의 예측값을 구하세요."
      ]
    },
    {
      "cell_type": "code",
      "execution_count": null,
      "metadata": {
        "id": "Mfn_8k-jIoPw"
      },
      "outputs": [],
      "source": []
    },
    {
      "cell_type": "markdown",
      "metadata": {
        "id": "Bp17v2l1A60_"
      },
      "source": [
        "### **4-3. Multiple Linear Regression**\n",
        "\n",
        "- Scikit-Learn 라이브러리를 사용하여 다중선형회귀 모델을 만드세요.\n",
        "  - 3가지 이상의 특성을 사용합니다.\n",
        "  - 타겟은 `price`입니다.\n",
        "- 모델 학습 후, 사용한 특성들에 대한 타겟 `price`의 예측값을 구하세요."
      ]
    },
    {
      "cell_type": "code",
      "execution_count": null,
      "metadata": {
        "id": "BipaD4mrIo1r"
      },
      "outputs": [],
      "source": []
    },
    {
      "cell_type": "markdown",
      "metadata": {
        "id": "FrbvAM7LHs6j"
      },
      "source": [
        "### **4-4. 평가지표**\n",
        "\n",
        "**4-2**, **4-3**에서 구한 단순선형회귀, 다중선형회귀의 성능을 평가해 봅니다.\n",
        "- 각 모델의 mse, rmse, mae, $R^2$ 값을 구하세요.\n",
        "- 위에서 구한 평가지표와 **Part 1**에서 구한 평가지표 스코어에 대하여, 해당 결과를 통해 얻을 수 있는 인사이트는 어떤 것이 있는지 설명해 보세요."
      ]
    },
    {
      "cell_type": "code",
      "execution_count": null,
      "metadata": {
        "id": "4KO_17l8IpYV"
      },
      "outputs": [],
      "source": []
    }
  ],
  "metadata": {
    "colab": {
      "provenance": [],
      "toc_visible": true
    },
    "kernelspec": {
      "display_name": "Python 3",
      "name": "python3"
    },
    "language_info": {
      "codemirror_mode": {
        "name": "ipython",
        "version": 3
      },
      "file_extension": ".py",
      "mimetype": "text/x-python",
      "name": "python",
      "nbconvert_exporter": "python",
      "pygments_lexer": "ipython3",
      "version": "3.11.7"
    }
  },
  "nbformat": 4,
  "nbformat_minor": 0
}
