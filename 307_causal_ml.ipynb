{
 "cells": [
  {
   "cell_type": "markdown",
   "metadata": {},
   "source": [
    "# Causal ML"
   ]
  },
  {
   "cell_type": "markdown",
   "metadata": {},
   "source": [
    "Source: https://www.pywhy.org/dowhy/v0.11.1/example_notebooks/dowhy-conditional-treatment-effects.html"
   ]
  },
  {
   "cell_type": "code",
   "execution_count": null,
   "metadata": {},
   "outputs": [],
   "source": [
    "# !pip install dowhy econml"
   ]
  },
  {
   "cell_type": "code",
   "execution_count": null,
   "metadata": {},
   "outputs": [],
   "source": [
    "import numpy as np\n",
    "import pandas as pd\n",
    "import logging\n",
    "\n",
    "import dowhy\n",
    "from dowhy import CausalModel\n",
    "import dowhy.datasets\n",
    "\n",
    "import econml\n",
    "import warnings\n",
    "warnings.filterwarnings('ignore')"
   ]
  },
  {
   "cell_type": "markdown",
   "metadata": {},
   "source": [
    "## 1. 데이터 생성\n",
    "실습을 위해 인위적인 데이터를 생성합니다. `dowhy.datasets.linear_dataset`를 사용하여 데이터를 생성하며, 인과 추정을 위한 다양한 변수를 포함합니다."
   ]
  },
  {
   "cell_type": "code",
   "execution_count": null,
   "metadata": {},
   "outputs": [],
   "source": [
    "BETA = 10\n",
    "\n",
    "data = dowhy.datasets.linear_dataset(BETA, num_common_causes=4, num_samples=10000,\n",
    "                                    num_instruments=2, num_effect_modifiers=2,\n",
    "                                    num_treatments=1,\n",
    "                                    treatment_is_binary=False,\n",
    "                                    num_discrete_common_causes=2,\n",
    "                                    num_discrete_effect_modifiers=0,\n",
    "                                    one_hot_encode=False)\n",
    "df = data['df']\n",
    "print(df.head())\n",
    "print(\"True causal estimate is\", data[\"ate\"])"
   ]
  },
  {
   "cell_type": "markdown",
   "metadata": {},
   "source": [
    "## 2. 인과 모델 정의 및 시각화\n",
    "생성된 데이터를 사용하여 인과 모델을 정의하고, DAG(Directed Acyclic Graph)를 시각화합니다."
   ]
  },
  {
   "cell_type": "code",
   "execution_count": null,
   "metadata": {},
   "outputs": [],
   "source": [
    "model = CausalModel(data=data[\"df\"],\n",
    "                    treatment=data[\"treatment_name\"], outcome=data[\"outcome_name\"],\n",
    "                    graph=data[\"gml_graph\"])\n",
    "\n",
    "model.view_model()"
   ]
  },
  {
   "cell_type": "markdown",
   "metadata": {},
   "source": [
    "## 3. DR Learner를 사용한 인과 효과 추정\n",
    "이제 DR Learner를 사용하여 CATE를 추정합니다.\n",
    "* Binary 데이터 생성: Binary 처리 변수를 포함하는 데이터를 생성합니다.\n",
    "* 모델 정의 및 시각화: Binary 데이터를 사용하여 인과 모델을 정의하고, DAG를 시각화합니다.\n",
    "* 인과 효과 식별: Binary 데이터에서 인과 효과를 식별합니다.\n",
    "* DR Learner를 사용한 인과 효과 추정: econml 라이브러리를 사용하여 DR Learner를 구현하고, CATE를 추정합니다."
   ]
  },
  {
   "cell_type": "code",
   "execution_count": null,
   "metadata": {},
   "outputs": [],
   "source": [
    "from sklearn.linear_model import LogisticRegressionCV\n",
    "\n",
    "# Binary 데이터를 생성합니다.\n",
    "data_binary = dowhy.datasets.linear_dataset(beta=BETA, num_common_causes=4, num_samples=10000,\n",
    "                                            num_instruments=2, num_effect_modifiers=2,\n",
    "                                            num_treatments=1, treatment_is_binary=True,\n",
    "                                            num_discrete_common_causes=2,\n",
    "                                            num_discrete_effect_modifiers=0,\n",
    "                                            one_hot_encode=True)\n",
    "df_binary = data_binary['df']\n",
    "\n",
    "model_binary = CausalModel(data=data_binary[\"df\"],\n",
    "                           treatment=data_binary[\"treatment_name\"], outcome=data_binary[\"outcome_name\"],\n",
    "                           graph=data_binary[\"gml_graph\"])\n",
    "\n",
    "model_binary.view_model()\n",
    "\n",
    "identified_estimand_binary = model_binary.identify_effect(proceed_when_unidentifiable=True)\n",
    "\n",
    "drlearner_estimate = model_binary.estimate_effect(\n",
    "    identified_estimand_binary,\n",
    "    method_name=\"backdoor.econml.dr.LinearDRLearner\",\n",
    "    confidence_intervals=False,\n",
    "    method_params={\"init_params\":{\n",
    "        'model_propensity': LogisticRegressionCV(cv=3, solver='lbfgs', multi_class='auto')\n",
    "        },\n",
    "        \"fit_params\":{}\n",
    "        }\n",
    "     )\n",
    "print(drlearner_estimate)\n",
    "print(\"True causal estimate is\", data_binary[\"ate\"])"
   ]
  },
  {
   "cell_type": "markdown",
   "metadata": {},
   "source": [
    "1. Identified Estimand (식별된 추정량): 우리가 추정하려는 인과 효과입니다. 여러 변수를 조정하여 처리(treatment)가 결과에 미치는 영향을 평가합니다.\n",
    "2. Realized Estimand (실현된 추정량): 실제로 사용된 모델입니다. 이 모델은 여러 변수를 고려하여 결과를 예측합니다.\n",
    "3. Estimate (추정치): 처리(treatment)가 결과에 미치는 평균적인 효과입니다.\n",
    "4. True causal estimate (실제 인과 추정 값): 시뮬레이션 데이터에서 실제로 설정한 인과 효과입니다."
   ]
  }
 ],
 "metadata": {
  "kernelspec": {
   "display_name": "base",
   "language": "python",
   "name": "python3"
  },
  "language_info": {
   "codemirror_mode": {
    "name": "ipython",
    "version": 3
   },
   "file_extension": ".py",
   "mimetype": "text/x-python",
   "name": "python",
   "nbconvert_exporter": "python",
   "pygments_lexer": "ipython3",
   "version": "3.11.7"
  }
 },
 "nbformat": 4,
 "nbformat_minor": 2
}
